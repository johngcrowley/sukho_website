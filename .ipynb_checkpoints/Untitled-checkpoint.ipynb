{
 "cells": [
  {
   "cell_type": "code",
   "execution_count": 1,
   "id": "clear-restoration",
   "metadata": {},
   "outputs": [],
   "source": [
    "import numpy as np\n",
    "import pandas as pd\n",
    "from datetime import datetime as dt, timedelta\n",
    "import re"
   ]
  },
  {
   "cell_type": "code",
   "execution_count": 2,
   "id": "experienced-audio",
   "metadata": {},
   "outputs": [],
   "source": [
    "today = dt.now()\n",
    "today = today.date()\n",
    "days = pd.date_range(today, today + timedelta(364))"
   ]
  },
  {
   "cell_type": "code",
   "execution_count": 3,
   "id": "threatened-dubai",
   "metadata": {},
   "outputs": [],
   "source": [
    "employees = ['bill','karen','horst']"
   ]
  },
  {
   "cell_type": "code",
   "execution_count": null,
   "id": "needed-advisory",
   "metadata": {},
   "outputs": [],
   "source": []
  },
  {
   "cell_type": "code",
   "execution_count": null,
   "id": "suspected-hammer",
   "metadata": {},
   "outputs": [],
   "source": []
  },
  {
   "cell_type": "code",
   "execution_count": null,
   "id": "stable-restoration",
   "metadata": {},
   "outputs": [],
   "source": []
  },
  {
   "cell_type": "code",
   "execution_count": null,
   "id": "drawn-combat",
   "metadata": {},
   "outputs": [],
   "source": []
  },
  {
   "cell_type": "code",
   "execution_count": null,
   "id": "monthly-narrative",
   "metadata": {},
   "outputs": [],
   "source": []
  },
  {
   "cell_type": "code",
   "execution_count": null,
   "id": "supreme-phrase",
   "metadata": {},
   "outputs": [],
   "source": []
  },
  {
   "cell_type": "code",
   "execution_count": null,
   "id": "pointed-groove",
   "metadata": {},
   "outputs": [],
   "source": []
  },
  {
   "cell_type": "code",
   "execution_count": 4,
   "id": "tutorial-newman",
   "metadata": {},
   "outputs": [],
   "source": [
    "tips = np.random.randint(1, high=100, size=len(days))"
   ]
  },
  {
   "cell_type": "code",
   "execution_count": 5,
   "id": "green-making",
   "metadata": {},
   "outputs": [],
   "source": [
    "emps = {}\n",
    "for i in employees:\n",
    "    emps[i] = tips"
   ]
  },
  {
   "cell_type": "code",
   "execution_count": 6,
   "id": "deadly-paint",
   "metadata": {},
   "outputs": [],
   "source": [
    "df1 = pd.DataFrame(emps)"
   ]
  },
  {
   "cell_type": "code",
   "execution_count": 7,
   "id": "worthy-myrtle",
   "metadata": {},
   "outputs": [],
   "source": [
    "df = df1.set_index(days)"
   ]
  },
  {
   "cell_type": "code",
   "execution_count": 8,
   "id": "stainless-emperor",
   "metadata": {},
   "outputs": [
    {
     "data": {
      "text/html": [
       "<div>\n",
       "<style scoped>\n",
       "    .dataframe tbody tr th:only-of-type {\n",
       "        vertical-align: middle;\n",
       "    }\n",
       "\n",
       "    .dataframe tbody tr th {\n",
       "        vertical-align: top;\n",
       "    }\n",
       "\n",
       "    .dataframe thead th {\n",
       "        text-align: right;\n",
       "    }\n",
       "</style>\n",
       "<table border=\"1\" class=\"dataframe\">\n",
       "  <thead>\n",
       "    <tr style=\"text-align: right;\">\n",
       "      <th></th>\n",
       "      <th>bill</th>\n",
       "      <th>karen</th>\n",
       "      <th>horst</th>\n",
       "    </tr>\n",
       "  </thead>\n",
       "  <tbody>\n",
       "    <tr>\n",
       "      <th>2021-04-23</th>\n",
       "      <td>24</td>\n",
       "      <td>24</td>\n",
       "      <td>24</td>\n",
       "    </tr>\n",
       "    <tr>\n",
       "      <th>2021-04-24</th>\n",
       "      <td>87</td>\n",
       "      <td>87</td>\n",
       "      <td>87</td>\n",
       "    </tr>\n",
       "    <tr>\n",
       "      <th>2021-04-25</th>\n",
       "      <td>45</td>\n",
       "      <td>45</td>\n",
       "      <td>45</td>\n",
       "    </tr>\n",
       "    <tr>\n",
       "      <th>2021-04-26</th>\n",
       "      <td>30</td>\n",
       "      <td>30</td>\n",
       "      <td>30</td>\n",
       "    </tr>\n",
       "    <tr>\n",
       "      <th>2021-04-27</th>\n",
       "      <td>3</td>\n",
       "      <td>3</td>\n",
       "      <td>3</td>\n",
       "    </tr>\n",
       "  </tbody>\n",
       "</table>\n",
       "</div>"
      ],
      "text/plain": [
       "            bill  karen  horst\n",
       "2021-04-23    24     24     24\n",
       "2021-04-24    87     87     87\n",
       "2021-04-25    45     45     45\n",
       "2021-04-26    30     30     30\n",
       "2021-04-27     3      3      3"
      ]
     },
     "execution_count": 8,
     "metadata": {},
     "output_type": "execute_result"
    }
   ],
   "source": [
    "df.head()"
   ]
  },
  {
   "cell_type": "code",
   "execution_count": null,
   "id": "copyrighted-sydney",
   "metadata": {},
   "outputs": [],
   "source": []
  },
  {
   "cell_type": "code",
   "execution_count": null,
   "id": "victorian-gardening",
   "metadata": {},
   "outputs": [],
   "source": []
  },
  {
   "cell_type": "code",
   "execution_count": 9,
   "id": "speaking-synthesis",
   "metadata": {},
   "outputs": [
    {
     "data": {
      "text/html": [
       "<div>\n",
       "<style scoped>\n",
       "    .dataframe tbody tr th:only-of-type {\n",
       "        vertical-align: middle;\n",
       "    }\n",
       "\n",
       "    .dataframe tbody tr th {\n",
       "        vertical-align: top;\n",
       "    }\n",
       "\n",
       "    .dataframe thead th {\n",
       "        text-align: right;\n",
       "    }\n",
       "</style>\n",
       "<table border=\"1\" class=\"dataframe\">\n",
       "  <thead>\n",
       "    <tr style=\"text-align: right;\">\n",
       "      <th></th>\n",
       "      <th>col2</th>\n",
       "    </tr>\n",
       "  </thead>\n",
       "  <tbody>\n",
       "    <tr>\n",
       "      <th>0</th>\n",
       "      <td>36</td>\n",
       "    </tr>\n",
       "    <tr>\n",
       "      <th>1</th>\n",
       "      <td>42</td>\n",
       "    </tr>\n",
       "    <tr>\n",
       "      <th>2</th>\n",
       "      <td>37</td>\n",
       "    </tr>\n",
       "    <tr>\n",
       "      <th>3</th>\n",
       "      <td>7</td>\n",
       "    </tr>\n",
       "    <tr>\n",
       "      <th>4</th>\n",
       "      <td>35</td>\n",
       "    </tr>\n",
       "  </tbody>\n",
       "</table>\n",
       "</div>"
      ],
      "text/plain": [
       "   col2\n",
       "0    36\n",
       "1    42\n",
       "2    37\n",
       "3     7\n",
       "4    35"
      ]
     },
     "execution_count": 9,
     "metadata": {},
     "output_type": "execute_result"
    }
   ],
   "source": [
    "data = np.random.randint(1, high=100, size=len(days))\n",
    "df = pd.DataFrame({'col2': data})\n",
    "#df = df.set_index('test')\n",
    "df.head()"
   ]
  },
  {
   "cell_type": "code",
   "execution_count": 10,
   "id": "sealed-impossible",
   "metadata": {},
   "outputs": [
    {
     "data": {
      "text/html": [
       "<div>\n",
       "<style scoped>\n",
       "    .dataframe tbody tr th:only-of-type {\n",
       "        vertical-align: middle;\n",
       "    }\n",
       "\n",
       "    .dataframe tbody tr th {\n",
       "        vertical-align: top;\n",
       "    }\n",
       "\n",
       "    .dataframe thead th {\n",
       "        text-align: right;\n",
       "    }\n",
       "</style>\n",
       "<table border=\"1\" class=\"dataframe\">\n",
       "  <thead>\n",
       "    <tr style=\"text-align: right;\">\n",
       "      <th></th>\n",
       "      <th>col2</th>\n",
       "      <th>employee</th>\n",
       "      <th>date</th>\n",
       "    </tr>\n",
       "  </thead>\n",
       "  <tbody>\n",
       "    <tr>\n",
       "      <th>0</th>\n",
       "      <td>36</td>\n",
       "      <td>karen</td>\n",
       "      <td>2021-04-23</td>\n",
       "    </tr>\n",
       "    <tr>\n",
       "      <th>1</th>\n",
       "      <td>42</td>\n",
       "      <td>karen</td>\n",
       "      <td>2021-04-24</td>\n",
       "    </tr>\n",
       "    <tr>\n",
       "      <th>2</th>\n",
       "      <td>37</td>\n",
       "      <td>karen</td>\n",
       "      <td>2021-04-25</td>\n",
       "    </tr>\n",
       "    <tr>\n",
       "      <th>3</th>\n",
       "      <td>7</td>\n",
       "      <td>bill</td>\n",
       "      <td>2021-04-26</td>\n",
       "    </tr>\n",
       "    <tr>\n",
       "      <th>4</th>\n",
       "      <td>35</td>\n",
       "      <td>karen</td>\n",
       "      <td>2021-04-27</td>\n",
       "    </tr>\n",
       "  </tbody>\n",
       "</table>\n",
       "</div>"
      ],
      "text/plain": [
       "   col2 employee       date\n",
       "0    36    karen 2021-04-23\n",
       "1    42    karen 2021-04-24\n",
       "2    37    karen 2021-04-25\n",
       "3     7     bill 2021-04-26\n",
       "4    35    karen 2021-04-27"
      ]
     },
     "execution_count": 10,
     "metadata": {},
     "output_type": "execute_result"
    }
   ],
   "source": [
    "df['employee'] = pd.cut(df['col2'],bins=len(employees),labels=employees)\n",
    "df['date'] = days\n",
    "df.head()"
   ]
  },
  {
   "cell_type": "code",
   "execution_count": null,
   "id": "private-blues",
   "metadata": {},
   "outputs": [],
   "source": []
  },
  {
   "cell_type": "code",
   "execution_count": 11,
   "id": "lonely-bryan",
   "metadata": {},
   "outputs": [
    {
     "data": {
      "text/html": [
       "<div>\n",
       "<style scoped>\n",
       "    .dataframe tbody tr th:only-of-type {\n",
       "        vertical-align: middle;\n",
       "    }\n",
       "\n",
       "    .dataframe tbody tr th {\n",
       "        vertical-align: top;\n",
       "    }\n",
       "\n",
       "    .dataframe thead th {\n",
       "        text-align: right;\n",
       "    }\n",
       "</style>\n",
       "<table border=\"1\" class=\"dataframe\">\n",
       "  <thead>\n",
       "    <tr style=\"text-align: right;\">\n",
       "      <th></th>\n",
       "      <th>col2</th>\n",
       "      <th>employee</th>\n",
       "      <th>date</th>\n",
       "    </tr>\n",
       "  </thead>\n",
       "  <tbody>\n",
       "    <tr>\n",
       "      <th>0</th>\n",
       "      <td>36</td>\n",
       "      <td>karen</td>\n",
       "      <td>2021-04-23</td>\n",
       "    </tr>\n",
       "    <tr>\n",
       "      <th>1</th>\n",
       "      <td>42</td>\n",
       "      <td>karen</td>\n",
       "      <td>2021-04-24</td>\n",
       "    </tr>\n",
       "    <tr>\n",
       "      <th>2</th>\n",
       "      <td>37</td>\n",
       "      <td>karen</td>\n",
       "      <td>2021-04-25</td>\n",
       "    </tr>\n",
       "    <tr>\n",
       "      <th>3</th>\n",
       "      <td>7</td>\n",
       "      <td>bill</td>\n",
       "      <td>2021-04-26</td>\n",
       "    </tr>\n",
       "    <tr>\n",
       "      <th>4</th>\n",
       "      <td>35</td>\n",
       "      <td>karen</td>\n",
       "      <td>2021-04-27</td>\n",
       "    </tr>\n",
       "  </tbody>\n",
       "</table>\n",
       "</div>"
      ],
      "text/plain": [
       "   col2 employee       date\n",
       "0    36    karen 2021-04-23\n",
       "1    42    karen 2021-04-24\n",
       "2    37    karen 2021-04-25\n",
       "3     7     bill 2021-04-26\n",
       "4    35    karen 2021-04-27"
      ]
     },
     "execution_count": 11,
     "metadata": {},
     "output_type": "execute_result"
    }
   ],
   "source": [
    "df.head()"
   ]
  },
  {
   "cell_type": "code",
   "execution_count": null,
   "id": "wicked-disposition",
   "metadata": {},
   "outputs": [],
   "source": []
  },
  {
   "cell_type": "code",
   "execution_count": 12,
   "id": "creative-hollow",
   "metadata": {},
   "outputs": [],
   "source": [
    "#dt = df.groupby(['employee', pd.Grouper(key='date', freq='SM')])['col2'].sum().reset_index().sort_values('date')"
   ]
  },
  {
   "cell_type": "code",
   "execution_count": 63,
   "id": "superb-representation",
   "metadata": {},
   "outputs": [
    {
     "data": {
      "text/plain": [
       "datetime.date(2021, 4, 22)"
      ]
     },
     "execution_count": 63,
     "metadata": {},
     "output_type": "execute_result"
    }
   ],
   "source": [
    "start = pd.to_datetime('4/22/21').date()\n",
    "start "
   ]
  },
  {
   "cell_type": "code",
   "execution_count": null,
   "id": "christian-superintendent",
   "metadata": {},
   "outputs": [],
   "source": []
  },
  {
   "cell_type": "code",
   "execution_count": null,
   "id": "lasting-wednesday",
   "metadata": {},
   "outputs": [],
   "source": []
  },
  {
   "cell_type": "code",
   "execution_count": 14,
   "id": "double-physiology",
   "metadata": {},
   "outputs": [],
   "source": [
    "biweek = pd.date_range(start, start + timedelta(13))"
   ]
  },
  {
   "cell_type": "code",
   "execution_count": 15,
   "id": "practical-plastic",
   "metadata": {},
   "outputs": [
    {
     "data": {
      "text/plain": [
       "DatetimeIndex(['2021-04-22', '2021-04-23', '2021-04-24', '2021-04-25',\n",
       "               '2021-04-26', '2021-04-27', '2021-04-28', '2021-04-29',\n",
       "               '2021-04-30', '2021-05-01', '2021-05-02', '2021-05-03',\n",
       "               '2021-05-04', '2021-05-05'],\n",
       "              dtype='datetime64[ns]', freq='D')"
      ]
     },
     "execution_count": 15,
     "metadata": {},
     "output_type": "execute_result"
    }
   ],
   "source": [
    "biweek"
   ]
  },
  {
   "cell_type": "code",
   "execution_count": null,
   "id": "tender-bulletin",
   "metadata": {},
   "outputs": [],
   "source": []
  },
  {
   "cell_type": "code",
   "execution_count": 16,
   "id": "weighted-dairy",
   "metadata": {},
   "outputs": [
    {
     "data": {
      "text/html": [
       "<div>\n",
       "<style scoped>\n",
       "    .dataframe tbody tr th:only-of-type {\n",
       "        vertical-align: middle;\n",
       "    }\n",
       "\n",
       "    .dataframe tbody tr th {\n",
       "        vertical-align: top;\n",
       "    }\n",
       "\n",
       "    .dataframe thead th {\n",
       "        text-align: right;\n",
       "    }\n",
       "</style>\n",
       "<table border=\"1\" class=\"dataframe\">\n",
       "  <thead>\n",
       "    <tr style=\"text-align: right;\">\n",
       "      <th>date</th>\n",
       "      <th>2021-04-23</th>\n",
       "      <th>2021-04-24</th>\n",
       "      <th>2021-04-25</th>\n",
       "      <th>2021-04-26</th>\n",
       "      <th>2021-04-27</th>\n",
       "      <th>2021-04-28</th>\n",
       "      <th>2021-04-29</th>\n",
       "      <th>2021-04-30</th>\n",
       "      <th>2021-05-01</th>\n",
       "      <th>2021-05-02</th>\n",
       "      <th>...</th>\n",
       "      <th>2022-04-13</th>\n",
       "      <th>2022-04-14</th>\n",
       "      <th>2022-04-15</th>\n",
       "      <th>2022-04-16</th>\n",
       "      <th>2022-04-17</th>\n",
       "      <th>2022-04-18</th>\n",
       "      <th>2022-04-19</th>\n",
       "      <th>2022-04-20</th>\n",
       "      <th>2022-04-21</th>\n",
       "      <th>2022-04-22</th>\n",
       "    </tr>\n",
       "    <tr>\n",
       "      <th>employee</th>\n",
       "      <th></th>\n",
       "      <th></th>\n",
       "      <th></th>\n",
       "      <th></th>\n",
       "      <th></th>\n",
       "      <th></th>\n",
       "      <th></th>\n",
       "      <th></th>\n",
       "      <th></th>\n",
       "      <th></th>\n",
       "      <th></th>\n",
       "      <th></th>\n",
       "      <th></th>\n",
       "      <th></th>\n",
       "      <th></th>\n",
       "      <th></th>\n",
       "      <th></th>\n",
       "      <th></th>\n",
       "      <th></th>\n",
       "      <th></th>\n",
       "      <th></th>\n",
       "    </tr>\n",
       "  </thead>\n",
       "  <tbody>\n",
       "    <tr>\n",
       "      <th>bill</th>\n",
       "      <td>NaN</td>\n",
       "      <td>NaN</td>\n",
       "      <td>NaN</td>\n",
       "      <td>7.0</td>\n",
       "      <td>NaN</td>\n",
       "      <td>NaN</td>\n",
       "      <td>9.0</td>\n",
       "      <td>NaN</td>\n",
       "      <td>NaN</td>\n",
       "      <td>NaN</td>\n",
       "      <td>...</td>\n",
       "      <td>NaN</td>\n",
       "      <td>NaN</td>\n",
       "      <td>NaN</td>\n",
       "      <td>NaN</td>\n",
       "      <td>25.0</td>\n",
       "      <td>26.0</td>\n",
       "      <td>7.0</td>\n",
       "      <td>10.0</td>\n",
       "      <td>NaN</td>\n",
       "      <td>32.0</td>\n",
       "    </tr>\n",
       "    <tr>\n",
       "      <th>karen</th>\n",
       "      <td>36.0</td>\n",
       "      <td>42.0</td>\n",
       "      <td>37.0</td>\n",
       "      <td>NaN</td>\n",
       "      <td>35.0</td>\n",
       "      <td>35.0</td>\n",
       "      <td>NaN</td>\n",
       "      <td>NaN</td>\n",
       "      <td>35.0</td>\n",
       "      <td>NaN</td>\n",
       "      <td>...</td>\n",
       "      <td>NaN</td>\n",
       "      <td>57.0</td>\n",
       "      <td>65.0</td>\n",
       "      <td>56.0</td>\n",
       "      <td>NaN</td>\n",
       "      <td>NaN</td>\n",
       "      <td>NaN</td>\n",
       "      <td>NaN</td>\n",
       "      <td>34.0</td>\n",
       "      <td>NaN</td>\n",
       "    </tr>\n",
       "    <tr>\n",
       "      <th>horst</th>\n",
       "      <td>NaN</td>\n",
       "      <td>NaN</td>\n",
       "      <td>NaN</td>\n",
       "      <td>NaN</td>\n",
       "      <td>NaN</td>\n",
       "      <td>NaN</td>\n",
       "      <td>NaN</td>\n",
       "      <td>79.0</td>\n",
       "      <td>NaN</td>\n",
       "      <td>93.0</td>\n",
       "      <td>...</td>\n",
       "      <td>88.0</td>\n",
       "      <td>NaN</td>\n",
       "      <td>NaN</td>\n",
       "      <td>NaN</td>\n",
       "      <td>NaN</td>\n",
       "      <td>NaN</td>\n",
       "      <td>NaN</td>\n",
       "      <td>NaN</td>\n",
       "      <td>NaN</td>\n",
       "      <td>NaN</td>\n",
       "    </tr>\n",
       "  </tbody>\n",
       "</table>\n",
       "<p>3 rows × 365 columns</p>\n",
       "</div>"
      ],
      "text/plain": [
       "date      2021-04-23  2021-04-24  2021-04-25  2021-04-26  2021-04-27  \\\n",
       "employee                                                               \n",
       "bill             NaN         NaN         NaN         7.0         NaN   \n",
       "karen           36.0        42.0        37.0         NaN        35.0   \n",
       "horst            NaN         NaN         NaN         NaN         NaN   \n",
       "\n",
       "date      2021-04-28  2021-04-29  2021-04-30  2021-05-01  2021-05-02  ...  \\\n",
       "employee                                                              ...   \n",
       "bill             NaN         9.0         NaN         NaN         NaN  ...   \n",
       "karen           35.0         NaN         NaN        35.0         NaN  ...   \n",
       "horst            NaN         NaN        79.0         NaN        93.0  ...   \n",
       "\n",
       "date      2022-04-13  2022-04-14  2022-04-15  2022-04-16  2022-04-17  \\\n",
       "employee                                                               \n",
       "bill             NaN         NaN         NaN         NaN        25.0   \n",
       "karen            NaN        57.0        65.0        56.0         NaN   \n",
       "horst           88.0         NaN         NaN         NaN         NaN   \n",
       "\n",
       "date      2022-04-18  2022-04-19  2022-04-20  2022-04-21  2022-04-22  \n",
       "employee                                                              \n",
       "bill            26.0         7.0        10.0         NaN        32.0  \n",
       "karen            NaN         NaN         NaN        34.0         NaN  \n",
       "horst            NaN         NaN         NaN         NaN         NaN  \n",
       "\n",
       "[3 rows x 365 columns]"
      ]
     },
     "execution_count": 16,
     "metadata": {},
     "output_type": "execute_result"
    }
   ],
   "source": [
    "df1 = df.pivot_table('col2','employee','date')\n",
    "df1.head()"
   ]
  },
  {
   "cell_type": "code",
   "execution_count": 18,
   "id": "necessary-imagination",
   "metadata": {},
   "outputs": [],
   "source": [
    "# df1 = df1[biweek]\n",
    "# df1.head()"
   ]
  },
  {
   "cell_type": "code",
   "execution_count": 19,
   "id": "psychological-season",
   "metadata": {},
   "outputs": [
    {
     "data": {
      "text/html": [
       "<div>\n",
       "<style scoped>\n",
       "    .dataframe tbody tr th:only-of-type {\n",
       "        vertical-align: middle;\n",
       "    }\n",
       "\n",
       "    .dataframe tbody tr th {\n",
       "        vertical-align: top;\n",
       "    }\n",
       "\n",
       "    .dataframe thead th {\n",
       "        text-align: right;\n",
       "    }\n",
       "</style>\n",
       "<table border=\"1\" class=\"dataframe\">\n",
       "  <thead>\n",
       "    <tr style=\"text-align: right;\">\n",
       "      <th>date</th>\n",
       "      <th>2021-04-23 00:00:00</th>\n",
       "      <th>2021-04-24 00:00:00</th>\n",
       "      <th>2021-04-25 00:00:00</th>\n",
       "      <th>2021-04-26 00:00:00</th>\n",
       "      <th>2021-04-27 00:00:00</th>\n",
       "      <th>2021-04-28 00:00:00</th>\n",
       "      <th>2021-04-29 00:00:00</th>\n",
       "      <th>2021-04-30 00:00:00</th>\n",
       "      <th>2021-05-01 00:00:00</th>\n",
       "      <th>2021-05-02 00:00:00</th>\n",
       "      <th>...</th>\n",
       "      <th>2022-04-15 00:00:00</th>\n",
       "      <th>2022-04-16 00:00:00</th>\n",
       "      <th>2022-04-17 00:00:00</th>\n",
       "      <th>2022-04-18 00:00:00</th>\n",
       "      <th>2022-04-19 00:00:00</th>\n",
       "      <th>2022-04-20 00:00:00</th>\n",
       "      <th>2022-04-21 00:00:00</th>\n",
       "      <th>2022-04-22 00:00:00</th>\n",
       "      <th>gross</th>\n",
       "      <th>claimed</th>\n",
       "    </tr>\n",
       "    <tr>\n",
       "      <th>employee</th>\n",
       "      <th></th>\n",
       "      <th></th>\n",
       "      <th></th>\n",
       "      <th></th>\n",
       "      <th></th>\n",
       "      <th></th>\n",
       "      <th></th>\n",
       "      <th></th>\n",
       "      <th></th>\n",
       "      <th></th>\n",
       "      <th></th>\n",
       "      <th></th>\n",
       "      <th></th>\n",
       "      <th></th>\n",
       "      <th></th>\n",
       "      <th></th>\n",
       "      <th></th>\n",
       "      <th></th>\n",
       "      <th></th>\n",
       "      <th></th>\n",
       "      <th></th>\n",
       "    </tr>\n",
       "  </thead>\n",
       "  <tbody>\n",
       "    <tr>\n",
       "      <th>bill</th>\n",
       "      <td>NaN</td>\n",
       "      <td>NaN</td>\n",
       "      <td>NaN</td>\n",
       "      <td>7.0</td>\n",
       "      <td>NaN</td>\n",
       "      <td>NaN</td>\n",
       "      <td>9.0</td>\n",
       "      <td>NaN</td>\n",
       "      <td>NaN</td>\n",
       "      <td>NaN</td>\n",
       "      <td>...</td>\n",
       "      <td>NaN</td>\n",
       "      <td>NaN</td>\n",
       "      <td>25.0</td>\n",
       "      <td>26.0</td>\n",
       "      <td>7.0</td>\n",
       "      <td>10.0</td>\n",
       "      <td>NaN</td>\n",
       "      <td>32.0</td>\n",
       "      <td>2481.0</td>\n",
       "      <td>1488.6</td>\n",
       "    </tr>\n",
       "    <tr>\n",
       "      <th>karen</th>\n",
       "      <td>36.0</td>\n",
       "      <td>42.0</td>\n",
       "      <td>37.0</td>\n",
       "      <td>NaN</td>\n",
       "      <td>35.0</td>\n",
       "      <td>35.0</td>\n",
       "      <td>NaN</td>\n",
       "      <td>NaN</td>\n",
       "      <td>35.0</td>\n",
       "      <td>NaN</td>\n",
       "      <td>...</td>\n",
       "      <td>65.0</td>\n",
       "      <td>56.0</td>\n",
       "      <td>NaN</td>\n",
       "      <td>NaN</td>\n",
       "      <td>NaN</td>\n",
       "      <td>NaN</td>\n",
       "      <td>34.0</td>\n",
       "      <td>NaN</td>\n",
       "      <td>6175.0</td>\n",
       "      <td>3705.0</td>\n",
       "    </tr>\n",
       "    <tr>\n",
       "      <th>horst</th>\n",
       "      <td>NaN</td>\n",
       "      <td>NaN</td>\n",
       "      <td>NaN</td>\n",
       "      <td>NaN</td>\n",
       "      <td>NaN</td>\n",
       "      <td>NaN</td>\n",
       "      <td>NaN</td>\n",
       "      <td>79.0</td>\n",
       "      <td>NaN</td>\n",
       "      <td>93.0</td>\n",
       "      <td>...</td>\n",
       "      <td>NaN</td>\n",
       "      <td>NaN</td>\n",
       "      <td>NaN</td>\n",
       "      <td>NaN</td>\n",
       "      <td>NaN</td>\n",
       "      <td>NaN</td>\n",
       "      <td>NaN</td>\n",
       "      <td>NaN</td>\n",
       "      <td>9339.0</td>\n",
       "      <td>5603.4</td>\n",
       "    </tr>\n",
       "  </tbody>\n",
       "</table>\n",
       "<p>3 rows × 367 columns</p>\n",
       "</div>"
      ],
      "text/plain": [
       "date      2021-04-23 00:00:00  2021-04-24 00:00:00  2021-04-25 00:00:00  \\\n",
       "employee                                                                  \n",
       "bill                      NaN                  NaN                  NaN   \n",
       "karen                    36.0                 42.0                 37.0   \n",
       "horst                     NaN                  NaN                  NaN   \n",
       "\n",
       "date      2021-04-26 00:00:00  2021-04-27 00:00:00  2021-04-28 00:00:00  \\\n",
       "employee                                                                  \n",
       "bill                      7.0                  NaN                  NaN   \n",
       "karen                     NaN                 35.0                 35.0   \n",
       "horst                     NaN                  NaN                  NaN   \n",
       "\n",
       "date      2021-04-29 00:00:00  2021-04-30 00:00:00  2021-05-01 00:00:00  \\\n",
       "employee                                                                  \n",
       "bill                      9.0                  NaN                  NaN   \n",
       "karen                     NaN                  NaN                 35.0   \n",
       "horst                     NaN                 79.0                  NaN   \n",
       "\n",
       "date      2021-05-02 00:00:00  ...  2022-04-15 00:00:00  2022-04-16 00:00:00  \\\n",
       "employee                       ...                                             \n",
       "bill                      NaN  ...                  NaN                  NaN   \n",
       "karen                     NaN  ...                 65.0                 56.0   \n",
       "horst                    93.0  ...                  NaN                  NaN   \n",
       "\n",
       "date      2022-04-17 00:00:00  2022-04-18 00:00:00  2022-04-19 00:00:00  \\\n",
       "employee                                                                  \n",
       "bill                     25.0                 26.0                  7.0   \n",
       "karen                     NaN                  NaN                  NaN   \n",
       "horst                     NaN                  NaN                  NaN   \n",
       "\n",
       "date      2022-04-20 00:00:00  2022-04-21 00:00:00  2022-04-22 00:00:00  \\\n",
       "employee                                                                  \n",
       "bill                     10.0                  NaN                 32.0   \n",
       "karen                     NaN                 34.0                  NaN   \n",
       "horst                     NaN                  NaN                  NaN   \n",
       "\n",
       "date       gross  claimed  \n",
       "employee                   \n",
       "bill      2481.0   1488.6  \n",
       "karen     6175.0   3705.0  \n",
       "horst     9339.0   5603.4  \n",
       "\n",
       "[3 rows x 367 columns]"
      ]
     },
     "execution_count": 19,
     "metadata": {},
     "output_type": "execute_result"
    }
   ],
   "source": [
    "df1['gross'] = df1.sum(axis=1)\n",
    "df1['claimed'] = df1['gross'] * .60\n",
    "df1.head()"
   ]
  },
  {
   "cell_type": "code",
   "execution_count": 20,
   "id": "accessible-lodge",
   "metadata": {},
   "outputs": [
    {
     "data": {
      "text/html": [
       "<div>\n",
       "<style scoped>\n",
       "    .dataframe tbody tr th:only-of-type {\n",
       "        vertical-align: middle;\n",
       "    }\n",
       "\n",
       "    .dataframe tbody tr th {\n",
       "        vertical-align: top;\n",
       "    }\n",
       "\n",
       "    .dataframe thead th {\n",
       "        text-align: right;\n",
       "    }\n",
       "</style>\n",
       "<table border=\"1\" class=\"dataframe\">\n",
       "  <thead>\n",
       "    <tr style=\"text-align: right;\">\n",
       "      <th></th>\n",
       "      <th>col2</th>\n",
       "      <th>employee</th>\n",
       "      <th>date</th>\n",
       "    </tr>\n",
       "  </thead>\n",
       "  <tbody>\n",
       "    <tr>\n",
       "      <th>0</th>\n",
       "      <td>36</td>\n",
       "      <td>karen</td>\n",
       "      <td>2021-04-23</td>\n",
       "    </tr>\n",
       "    <tr>\n",
       "      <th>1</th>\n",
       "      <td>42</td>\n",
       "      <td>karen</td>\n",
       "      <td>2021-04-24</td>\n",
       "    </tr>\n",
       "    <tr>\n",
       "      <th>2</th>\n",
       "      <td>37</td>\n",
       "      <td>karen</td>\n",
       "      <td>2021-04-25</td>\n",
       "    </tr>\n",
       "    <tr>\n",
       "      <th>3</th>\n",
       "      <td>7</td>\n",
       "      <td>bill</td>\n",
       "      <td>2021-04-26</td>\n",
       "    </tr>\n",
       "    <tr>\n",
       "      <th>4</th>\n",
       "      <td>35</td>\n",
       "      <td>karen</td>\n",
       "      <td>2021-04-27</td>\n",
       "    </tr>\n",
       "  </tbody>\n",
       "</table>\n",
       "</div>"
      ],
      "text/plain": [
       "   col2 employee       date\n",
       "0    36    karen 2021-04-23\n",
       "1    42    karen 2021-04-24\n",
       "2    37    karen 2021-04-25\n",
       "3     7     bill 2021-04-26\n",
       "4    35    karen 2021-04-27"
      ]
     },
     "execution_count": 20,
     "metadata": {},
     "output_type": "execute_result"
    }
   ],
   "source": [
    "df.head()"
   ]
  },
  {
   "cell_type": "code",
   "execution_count": 21,
   "id": "polished-twist",
   "metadata": {},
   "outputs": [],
   "source": [
    "df2 = df1[['gross','claimed']]"
   ]
  },
  {
   "cell_type": "code",
   "execution_count": 22,
   "id": "annual-format",
   "metadata": {},
   "outputs": [
    {
     "name": "stdout",
     "output_type": "stream",
     "text": [
      "bill\n",
      "date\n",
      "gross      2481.0\n",
      "claimed    1488.6\n",
      "Name: bill, dtype: float64\n",
      "karen\n",
      "date\n",
      "gross      6175.0\n",
      "claimed    3705.0\n",
      "Name: karen, dtype: float64\n",
      "horst\n",
      "date\n",
      "gross      9339.0\n",
      "claimed    5603.4\n",
      "Name: horst, dtype: float64\n"
     ]
    }
   ],
   "source": [
    "for k,v in df2.iterrows():\n",
    "    print(k)\n",
    "    print(v)"
   ]
  },
  {
   "cell_type": "code",
   "execution_count": null,
   "id": "sunrise-freeze",
   "metadata": {},
   "outputs": [],
   "source": [
    "df = pd.read_csv('test - Marigny.csv')"
   ]
  },
  {
   "cell_type": "code",
   "execution_count": null,
   "id": "serial-iceland",
   "metadata": {},
   "outputs": [],
   "source": [
    "df.head()"
   ]
  },
  {
   "cell_type": "code",
   "execution_count": 25,
   "id": "signal-overall",
   "metadata": {},
   "outputs": [],
   "source": [
    "cols = df.columns\n",
    "df.drop(cols[0:6],axis=1,inplace=True)\n"
   ]
  },
  {
   "cell_type": "code",
   "execution_count": 26,
   "id": "governing-knock",
   "metadata": {},
   "outputs": [],
   "source": [
    "df.drop('created_at',axis=1,inplace=True)"
   ]
  },
  {
   "cell_type": "code",
   "execution_count": 27,
   "id": "sweet-cliff",
   "metadata": {},
   "outputs": [],
   "source": [
    "df['date'] = pd.to_datetime(df['date'])\n",
    "df['tips'] = round(df.tips.astype(int))"
   ]
  },
  {
   "cell_type": "code",
   "execution_count": null,
   "id": "finite-concentration",
   "metadata": {},
   "outputs": [],
   "source": [
    "df"
   ]
  },
  {
   "cell_type": "code",
   "execution_count": 29,
   "id": "vietnamese-chamber",
   "metadata": {},
   "outputs": [],
   "source": [
    "df = df.pivot_table('tips','name','date')"
   ]
  },
  {
   "cell_type": "code",
   "execution_count": 30,
   "id": "decent-arlington",
   "metadata": {},
   "outputs": [
    {
     "data": {
      "text/html": [
       "<div>\n",
       "<style scoped>\n",
       "    .dataframe tbody tr th:only-of-type {\n",
       "        vertical-align: middle;\n",
       "    }\n",
       "\n",
       "    .dataframe tbody tr th {\n",
       "        vertical-align: top;\n",
       "    }\n",
       "\n",
       "    .dataframe thead th {\n",
       "        text-align: right;\n",
       "    }\n",
       "</style>\n",
       "<table border=\"1\" class=\"dataframe\">\n",
       "  <thead>\n",
       "    <tr style=\"text-align: right;\">\n",
       "      <th>date</th>\n",
       "      <th>2021-04-20</th>\n",
       "      <th>2021-04-23</th>\n",
       "    </tr>\n",
       "    <tr>\n",
       "      <th>name</th>\n",
       "      <th></th>\n",
       "      <th></th>\n",
       "    </tr>\n",
       "  </thead>\n",
       "  <tbody>\n",
       "    <tr>\n",
       "      <th>Bill</th>\n",
       "      <td>26.857143</td>\n",
       "      <td>127.0</td>\n",
       "    </tr>\n",
       "    <tr>\n",
       "      <th>bloosh</th>\n",
       "      <td>NaN</td>\n",
       "      <td>127.0</td>\n",
       "    </tr>\n",
       "    <tr>\n",
       "      <th>joke</th>\n",
       "      <td>NaN</td>\n",
       "      <td>127.0</td>\n",
       "    </tr>\n",
       "  </tbody>\n",
       "</table>\n",
       "</div>"
      ],
      "text/plain": [
       "date    2021-04-20  2021-04-23\n",
       "name                          \n",
       "Bill     26.857143       127.0\n",
       "bloosh         NaN       127.0\n",
       "joke           NaN       127.0"
      ]
     },
     "execution_count": 30,
     "metadata": {},
     "output_type": "execute_result"
    }
   ],
   "source": [
    "df.head()"
   ]
  },
  {
   "cell_type": "code",
   "execution_count": 64,
   "id": "adequate-fruit",
   "metadata": {},
   "outputs": [
    {
     "name": "stdout",
     "output_type": "stream",
     "text": [
      "please enter a valid date12/23/21\n"
     ]
    }
   ],
   "source": [
    "start = input('please enter a valid date')\n"
   ]
  },
  {
   "cell_type": "code",
   "execution_count": 65,
   "id": "broken-classic",
   "metadata": {},
   "outputs": [
    {
     "name": "stdout",
     "output_type": "stream",
     "text": [
      "12/23/21\n"
     ]
    }
   ],
   "source": [
    "print(start)"
   ]
  },
  {
   "cell_type": "code",
   "execution_count": 66,
   "id": "finite-proposal",
   "metadata": {},
   "outputs": [],
   "source": [
    "patt = re.compile('\\d{2}/\\d{2}/\\d{2}')"
   ]
  },
  {
   "cell_type": "code",
   "execution_count": 67,
   "id": "activated-narrow",
   "metadata": {},
   "outputs": [
    {
     "name": "stdout",
     "output_type": "stream",
     "text": [
      "re.compile('\\\\d{2}/\\\\d{2}/\\\\d{2}')\n"
     ]
    }
   ],
   "source": [
    "print(patt)"
   ]
  },
  {
   "cell_type": "code",
   "execution_count": 68,
   "id": "starting-projector",
   "metadata": {},
   "outputs": [
    {
     "data": {
      "text/plain": [
       "['12/23/21']"
      ]
     },
     "execution_count": 68,
     "metadata": {},
     "output_type": "execute_result"
    }
   ],
   "source": [
    "re.findall(patt,start)"
   ]
  },
  {
   "cell_type": "code",
   "execution_count": 69,
   "id": "automatic-northern",
   "metadata": {},
   "outputs": [
    {
     "name": "stdout",
     "output_type": "stream",
     "text": [
      "gucci\n"
     ]
    }
   ],
   "source": []
  },
  {
   "cell_type": "code",
   "execution_count": 83,
   "id": "distinct-landing",
   "metadata": {},
   "outputs": [
    {
     "name": "stdout",
     "output_type": "stream",
     "text": [
      "please enter a valid date\n"
     ]
    }
   ],
   "source": [
    "start = input('please enter a valid date')"
   ]
  },
  {
   "cell_type": "code",
   "execution_count": null,
   "id": "indoor-zimbabwe",
   "metadata": {},
   "outputs": [],
   "source": [
    "def check_date(s):\n",
    "\n",
    "    patt = re.compile('\\d{2}/\\d{2}/\\d{2}')\n",
    "\n",
    "\n",
    "    if re.findall(patt,s) == []:\n",
    "        print('you fucked up')\n",
    "        return False\n",
    "    else:\n",
    "        print('gucci')\n",
    "        try:\n",
    "            start = pd.to_datetime(s).date()\n",
    "            return start\n",
    "            \n",
    "        except:\n",
    "            return False\n",
    "    "
   ]
  },
  {
   "cell_type": "code",
   "execution_count": null,
   "id": "published-cross",
   "metadata": {},
   "outputs": [],
   "source": [
    "check_date(start)"
   ]
  },
  {
   "cell_type": "code",
   "execution_count": null,
   "id": "tender-former",
   "metadata": {},
   "outputs": [],
   "source": [
    "pay_period = pd.date_range(start, start + timedelta(2))"
   ]
  },
  {
   "cell_type": "code",
   "execution_count": 36,
   "id": "enormous-premises",
   "metadata": {},
   "outputs": [
    {
     "ename": "NameError",
     "evalue": "name 'year' is not defined",
     "output_type": "error",
     "traceback": [
      "\u001b[0;31m---------------------------------------------------------------------------\u001b[0m",
      "\u001b[0;31mNameError\u001b[0m                                 Traceback (most recent call last)",
      "\u001b[0;32m<ipython-input-36-2898ff18ffd8>\u001b[0m in \u001b[0;36m<module>\u001b[0;34m\u001b[0m\n\u001b[0;32m----> 1\u001b[0;31m \u001b[0mstart\u001b[0m \u001b[0;34m=\u001b[0m \u001b[0mdt\u001b[0m\u001b[0;34m(\u001b[0m\u001b[0mint\u001b[0m\u001b[0;34m(\u001b[0m\u001b[0myear\u001b[0m\u001b[0;34m)\u001b[0m\u001b[0;34m,\u001b[0m\u001b[0mint\u001b[0m\u001b[0;34m(\u001b[0m\u001b[0mmonth\u001b[0m\u001b[0;34m)\u001b[0m\u001b[0;34m,\u001b[0m\u001b[0mint\u001b[0m\u001b[0;34m(\u001b[0m\u001b[0mday\u001b[0m\u001b[0;34m)\u001b[0m\u001b[0;34m)\u001b[0m\u001b[0;34m.\u001b[0m\u001b[0mdate\u001b[0m\u001b[0;34m(\u001b[0m\u001b[0;34m)\u001b[0m\u001b[0;34m\u001b[0m\u001b[0;34m\u001b[0m\u001b[0m\n\u001b[0m\u001b[1;32m      2\u001b[0m \u001b[0mbiweek\u001b[0m \u001b[0;34m=\u001b[0m \u001b[0mpd\u001b[0m\u001b[0;34m.\u001b[0m\u001b[0mdate_range\u001b[0m\u001b[0;34m(\u001b[0m\u001b[0mstart\u001b[0m\u001b[0;34m,\u001b[0m \u001b[0mstart\u001b[0m \u001b[0;34m+\u001b[0m \u001b[0mtimedelta\u001b[0m\u001b[0;34m(\u001b[0m\u001b[0;36m13\u001b[0m\u001b[0;34m)\u001b[0m\u001b[0;34m)\u001b[0m\u001b[0;34m\u001b[0m\u001b[0;34m\u001b[0m\u001b[0m\n",
      "\u001b[0;31mNameError\u001b[0m: name 'year' is not defined"
     ]
    }
   ],
   "source": [
    "start = dt(int(year),int(month),int(day)).date()\n",
    "biweek = pd.date_range(start, start + timedelta(13))"
   ]
  },
  {
   "cell_type": "code",
   "execution_count": null,
   "id": "altered-egyptian",
   "metadata": {},
   "outputs": [],
   "source": [
    "\n",
    "\n",
    "df['day'] = df['date'].dt.day_name().astype(str)\n",
    "df['day'] = df['day'].str.replace(r'(\\w+day\\b)',lambda x: x.groups()[0][:3])\n",
    "df['Date'] =  df.date.astype(str) + '\\n' + df.day + '\\n' + df.time.astype(str)\n",
    "df.fillna('-',inplace=True)\n",
    "df = df.pivot_table(index=\"name\",columns=[\"Date\"],values=\"tips\")"
   ]
  },
  {
   "cell_type": "code",
   "execution_count": null,
   "id": "accepted-memorial",
   "metadata": {},
   "outputs": [],
   "source": [
    "dataframe['date'] = pd.to_datetime(dataframe['created_at']).dt.date\n",
    "\n",
    "df = dataframe.pivot_table('tips','name','date')\n",
    "\n",
    "df1 = df[biweek]\n",
    "\n",
    "df1['gross'] = df1.sum(axis=1)\n",
    "df1['claimed'] = df1['gross'] * .60"
   ]
  },
  {
   "cell_type": "code",
   "execution_count": null,
   "id": "partial-fleet",
   "metadata": {},
   "outputs": [],
   "source": []
  }
 ],
 "metadata": {
  "kernelspec": {
   "display_name": "Python 3",
   "language": "python",
   "name": "python3"
  },
  "language_info": {
   "codemirror_mode": {
    "name": "ipython",
    "version": 3
   },
   "file_extension": ".py",
   "mimetype": "text/x-python",
   "name": "python",
   "nbconvert_exporter": "python",
   "pygments_lexer": "ipython3",
   "version": "3.9.2"
  }
 },
 "nbformat": 4,
 "nbformat_minor": 5
}
