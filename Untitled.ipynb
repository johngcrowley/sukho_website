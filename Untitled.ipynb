{
 "cells": [
  {
   "cell_type": "code",
   "execution_count": 1,
   "id": "clear-restoration",
   "metadata": {},
   "outputs": [],
   "source": [
    "import numpy as np\n",
    "import pandas as pd\n",
    "from datetime import datetime as dt, timedelta\n",
    "import re"
   ]
  },
  {
   "cell_type": "code",
   "execution_count": 2,
   "id": "experienced-audio",
   "metadata": {},
   "outputs": [],
   "source": [
    "today = dt.now()\n",
    "today = today.date()\n",
    "days = pd.date_range(today, today + timedelta(364))"
   ]
  },
  {
   "cell_type": "code",
   "execution_count": null,
   "id": "threatened-dubai",
   "metadata": {},
   "outputs": [],
   "source": []
  },
  {
   "cell_type": "code",
   "execution_count": null,
   "id": "needed-advisory",
   "metadata": {},
   "outputs": [],
   "source": []
  },
  {
   "cell_type": "code",
   "execution_count": 153,
   "id": "suspected-hammer",
   "metadata": {},
   "outputs": [],
   "source": [
    "df = pd.read_csv('test - Marigny.csv')"
   ]
  },
  {
   "cell_type": "code",
   "execution_count": 154,
   "id": "stable-restoration",
   "metadata": {},
   "outputs": [],
   "source": [
    "cols = df.columns\n",
    "df.drop(cols[0:6],axis=1,inplace=True)\n",
    "df.drop('created_at',axis=1,inplace=True)\n",
    "df['date'] = pd.to_datetime(df['date'])\n",
    "df['tips'] = round(df.tips.astype(int))"
   ]
  },
  {
   "cell_type": "code",
   "execution_count": 155,
   "id": "drawn-combat",
   "metadata": {},
   "outputs": [
    {
     "data": {
      "text/html": [
       "<div>\n",
       "<style scoped>\n",
       "    .dataframe tbody tr th:only-of-type {\n",
       "        vertical-align: middle;\n",
       "    }\n",
       "\n",
       "    .dataframe tbody tr th {\n",
       "        vertical-align: top;\n",
       "    }\n",
       "\n",
       "    .dataframe thead th {\n",
       "        text-align: right;\n",
       "    }\n",
       "</style>\n",
       "<table border=\"1\" class=\"dataframe\">\n",
       "  <thead>\n",
       "    <tr style=\"text-align: right;\">\n",
       "      <th></th>\n",
       "      <th>name</th>\n",
       "      <th>tips</th>\n",
       "      <th>date</th>\n",
       "    </tr>\n",
       "  </thead>\n",
       "  <tbody>\n",
       "    <tr>\n",
       "      <th>0</th>\n",
       "      <td>Bill</td>\n",
       "      <td>21</td>\n",
       "      <td>2021-04-20</td>\n",
       "    </tr>\n",
       "    <tr>\n",
       "      <th>1</th>\n",
       "      <td>Bill</td>\n",
       "      <td>13</td>\n",
       "      <td>2021-04-20</td>\n",
       "    </tr>\n",
       "    <tr>\n",
       "      <th>2</th>\n",
       "      <td>Bill</td>\n",
       "      <td>13</td>\n",
       "      <td>2021-04-20</td>\n",
       "    </tr>\n",
       "    <tr>\n",
       "      <th>3</th>\n",
       "      <td>Bill</td>\n",
       "      <td>13</td>\n",
       "      <td>2021-04-20</td>\n",
       "    </tr>\n",
       "    <tr>\n",
       "      <th>4</th>\n",
       "      <td>Bill</td>\n",
       "      <td>11</td>\n",
       "      <td>2021-04-20</td>\n",
       "    </tr>\n",
       "  </tbody>\n",
       "</table>\n",
       "</div>"
      ],
      "text/plain": [
       "   name  tips       date\n",
       "0  Bill    21 2021-04-20\n",
       "1  Bill    13 2021-04-20\n",
       "2  Bill    13 2021-04-20\n",
       "3  Bill    13 2021-04-20\n",
       "4  Bill    11 2021-04-20"
      ]
     },
     "execution_count": 155,
     "metadata": {},
     "output_type": "execute_result"
    }
   ],
   "source": [
    "df.head()"
   ]
  },
  {
   "cell_type": "code",
   "execution_count": 156,
   "id": "monthly-narrative",
   "metadata": {},
   "outputs": [],
   "source": [
    "s = '04/20/21'\n",
    "start = pd.to_datetime(s).date()"
   ]
  },
  {
   "cell_type": "code",
   "execution_count": 157,
   "id": "supreme-phrase",
   "metadata": {},
   "outputs": [],
   "source": [
    "pay_period = pd.date_range(start, start + timedelta(3))\n"
   ]
  },
  {
   "cell_type": "code",
   "execution_count": 158,
   "id": "pointed-groove",
   "metadata": {},
   "outputs": [],
   "source": [
    "df = df.pivot_table('tips','name','date')"
   ]
  },
  {
   "cell_type": "code",
   "execution_count": 151,
   "id": "tutorial-newman",
   "metadata": {},
   "outputs": [],
   "source": [
    "df1 = df[[pay_period[0],pay_period[3]]].copy()"
   ]
  },
  {
   "cell_type": "code",
   "execution_count": 152,
   "id": "green-making",
   "metadata": {},
   "outputs": [
    {
     "data": {
      "text/html": [
       "<div>\n",
       "<style scoped>\n",
       "    .dataframe tbody tr th:only-of-type {\n",
       "        vertical-align: middle;\n",
       "    }\n",
       "\n",
       "    .dataframe tbody tr th {\n",
       "        vertical-align: top;\n",
       "    }\n",
       "\n",
       "    .dataframe thead th {\n",
       "        text-align: right;\n",
       "    }\n",
       "</style>\n",
       "<table border=\"1\" class=\"dataframe\">\n",
       "  <thead>\n",
       "    <tr style=\"text-align: right;\">\n",
       "      <th>date</th>\n",
       "      <th>2021-04-20</th>\n",
       "      <th>2021-04-23</th>\n",
       "    </tr>\n",
       "    <tr>\n",
       "      <th>name</th>\n",
       "      <th></th>\n",
       "      <th></th>\n",
       "    </tr>\n",
       "  </thead>\n",
       "  <tbody>\n",
       "    <tr>\n",
       "      <th>Bill</th>\n",
       "      <td>26.857143</td>\n",
       "      <td>127.0</td>\n",
       "    </tr>\n",
       "    <tr>\n",
       "      <th>bloosh</th>\n",
       "      <td>NaN</td>\n",
       "      <td>127.0</td>\n",
       "    </tr>\n",
       "    <tr>\n",
       "      <th>joke</th>\n",
       "      <td>NaN</td>\n",
       "      <td>127.0</td>\n",
       "    </tr>\n",
       "  </tbody>\n",
       "</table>\n",
       "</div>"
      ],
      "text/plain": [
       "date    2021-04-20  2021-04-23\n",
       "name                          \n",
       "Bill     26.857143       127.0\n",
       "bloosh         NaN       127.0\n",
       "joke           NaN       127.0"
      ]
     },
     "execution_count": 152,
     "metadata": {},
     "output_type": "execute_result"
    }
   ],
   "source": [
    "df1"
   ]
  },
  {
   "cell_type": "code",
   "execution_count": 18,
   "id": "deadly-paint",
   "metadata": {},
   "outputs": [
    {
     "data": {
      "text/plain": [
       "DatetimeIndex(['2021-04-20', '2021-04-21', '2021-04-22', '2021-04-23'], dtype='datetime64[ns]', freq='D')"
      ]
     },
     "execution_count": 18,
     "metadata": {},
     "output_type": "execute_result"
    }
   ],
   "source": [
    "pay_period"
   ]
  },
  {
   "cell_type": "code",
   "execution_count": 20,
   "id": "worthy-myrtle",
   "metadata": {},
   "outputs": [
    {
     "ename": "KeyError",
     "evalue": "\"[Timestamp('2021-04-22 00:00:00', freq='D'), Timestamp('2021-04-21 00:00:00', freq='D')] not in index\"",
     "output_type": "error",
     "traceback": [
      "\u001b[0;31m---------------------------------------------------------------------------\u001b[0m",
      "\u001b[0;31mKeyError\u001b[0m                                  Traceback (most recent call last)",
      "\u001b[0;32m<ipython-input-20-e1685d7fbc7b>\u001b[0m in \u001b[0;36m<module>\u001b[0;34m\u001b[0m\n\u001b[0;32m----> 1\u001b[0;31m \u001b[0mdf\u001b[0m\u001b[0;34m[\u001b[0m\u001b[0mpay_period\u001b[0m\u001b[0;34m]\u001b[0m\u001b[0;34m\u001b[0m\u001b[0;34m\u001b[0m\u001b[0m\n\u001b[0m",
      "\u001b[0;32m~/.local/share/virtualenvs/sukho-OZa_kSKd/lib/python3.9/site-packages/pandas/core/frame.py\u001b[0m in \u001b[0;36m__getitem__\u001b[0;34m(self, key)\u001b[0m\n\u001b[1;32m   3028\u001b[0m             \u001b[0;32mif\u001b[0m \u001b[0mis_iterator\u001b[0m\u001b[0;34m(\u001b[0m\u001b[0mkey\u001b[0m\u001b[0;34m)\u001b[0m\u001b[0;34m:\u001b[0m\u001b[0;34m\u001b[0m\u001b[0;34m\u001b[0m\u001b[0m\n\u001b[1;32m   3029\u001b[0m                 \u001b[0mkey\u001b[0m \u001b[0;34m=\u001b[0m \u001b[0mlist\u001b[0m\u001b[0;34m(\u001b[0m\u001b[0mkey\u001b[0m\u001b[0;34m)\u001b[0m\u001b[0;34m\u001b[0m\u001b[0;34m\u001b[0m\u001b[0m\n\u001b[0;32m-> 3030\u001b[0;31m             \u001b[0mindexer\u001b[0m \u001b[0;34m=\u001b[0m \u001b[0mself\u001b[0m\u001b[0;34m.\u001b[0m\u001b[0mloc\u001b[0m\u001b[0;34m.\u001b[0m\u001b[0m_get_listlike_indexer\u001b[0m\u001b[0;34m(\u001b[0m\u001b[0mkey\u001b[0m\u001b[0;34m,\u001b[0m \u001b[0maxis\u001b[0m\u001b[0;34m=\u001b[0m\u001b[0;36m1\u001b[0m\u001b[0;34m,\u001b[0m \u001b[0mraise_missing\u001b[0m\u001b[0;34m=\u001b[0m\u001b[0;32mTrue\u001b[0m\u001b[0;34m)\u001b[0m\u001b[0;34m[\u001b[0m\u001b[0;36m1\u001b[0m\u001b[0;34m]\u001b[0m\u001b[0;34m\u001b[0m\u001b[0;34m\u001b[0m\u001b[0m\n\u001b[0m\u001b[1;32m   3031\u001b[0m \u001b[0;34m\u001b[0m\u001b[0m\n\u001b[1;32m   3032\u001b[0m         \u001b[0;31m# take() does not accept boolean indexers\u001b[0m\u001b[0;34m\u001b[0m\u001b[0;34m\u001b[0m\u001b[0;34m\u001b[0m\u001b[0m\n",
      "\u001b[0;32m~/.local/share/virtualenvs/sukho-OZa_kSKd/lib/python3.9/site-packages/pandas/core/indexing.py\u001b[0m in \u001b[0;36m_get_listlike_indexer\u001b[0;34m(self, key, axis, raise_missing)\u001b[0m\n\u001b[1;32m   1264\u001b[0m             \u001b[0mkeyarr\u001b[0m\u001b[0;34m,\u001b[0m \u001b[0mindexer\u001b[0m\u001b[0;34m,\u001b[0m \u001b[0mnew_indexer\u001b[0m \u001b[0;34m=\u001b[0m \u001b[0max\u001b[0m\u001b[0;34m.\u001b[0m\u001b[0m_reindex_non_unique\u001b[0m\u001b[0;34m(\u001b[0m\u001b[0mkeyarr\u001b[0m\u001b[0;34m)\u001b[0m\u001b[0;34m\u001b[0m\u001b[0;34m\u001b[0m\u001b[0m\n\u001b[1;32m   1265\u001b[0m \u001b[0;34m\u001b[0m\u001b[0m\n\u001b[0;32m-> 1266\u001b[0;31m         \u001b[0mself\u001b[0m\u001b[0;34m.\u001b[0m\u001b[0m_validate_read_indexer\u001b[0m\u001b[0;34m(\u001b[0m\u001b[0mkeyarr\u001b[0m\u001b[0;34m,\u001b[0m \u001b[0mindexer\u001b[0m\u001b[0;34m,\u001b[0m \u001b[0maxis\u001b[0m\u001b[0;34m,\u001b[0m \u001b[0mraise_missing\u001b[0m\u001b[0;34m=\u001b[0m\u001b[0mraise_missing\u001b[0m\u001b[0;34m)\u001b[0m\u001b[0;34m\u001b[0m\u001b[0;34m\u001b[0m\u001b[0m\n\u001b[0m\u001b[1;32m   1267\u001b[0m         \u001b[0;32mreturn\u001b[0m \u001b[0mkeyarr\u001b[0m\u001b[0;34m,\u001b[0m \u001b[0mindexer\u001b[0m\u001b[0;34m\u001b[0m\u001b[0;34m\u001b[0m\u001b[0m\n\u001b[1;32m   1268\u001b[0m \u001b[0;34m\u001b[0m\u001b[0m\n",
      "\u001b[0;32m~/.local/share/virtualenvs/sukho-OZa_kSKd/lib/python3.9/site-packages/pandas/core/indexing.py\u001b[0m in \u001b[0;36m_validate_read_indexer\u001b[0;34m(self, key, indexer, axis, raise_missing)\u001b[0m\n\u001b[1;32m   1314\u001b[0m             \u001b[0;32mif\u001b[0m \u001b[0mraise_missing\u001b[0m\u001b[0;34m:\u001b[0m\u001b[0;34m\u001b[0m\u001b[0;34m\u001b[0m\u001b[0m\n\u001b[1;32m   1315\u001b[0m                 \u001b[0mnot_found\u001b[0m \u001b[0;34m=\u001b[0m \u001b[0mlist\u001b[0m\u001b[0;34m(\u001b[0m\u001b[0mset\u001b[0m\u001b[0;34m(\u001b[0m\u001b[0mkey\u001b[0m\u001b[0;34m)\u001b[0m \u001b[0;34m-\u001b[0m \u001b[0mset\u001b[0m\u001b[0;34m(\u001b[0m\u001b[0max\u001b[0m\u001b[0;34m)\u001b[0m\u001b[0;34m)\u001b[0m\u001b[0;34m\u001b[0m\u001b[0;34m\u001b[0m\u001b[0m\n\u001b[0;32m-> 1316\u001b[0;31m                 \u001b[0;32mraise\u001b[0m \u001b[0mKeyError\u001b[0m\u001b[0;34m(\u001b[0m\u001b[0;34mf\"{not_found} not in index\"\u001b[0m\u001b[0;34m)\u001b[0m\u001b[0;34m\u001b[0m\u001b[0;34m\u001b[0m\u001b[0m\n\u001b[0m\u001b[1;32m   1317\u001b[0m \u001b[0;34m\u001b[0m\u001b[0m\n\u001b[1;32m   1318\u001b[0m             \u001b[0mnot_found\u001b[0m \u001b[0;34m=\u001b[0m \u001b[0mkey\u001b[0m\u001b[0;34m[\u001b[0m\u001b[0mmissing_mask\u001b[0m\u001b[0;34m]\u001b[0m\u001b[0;34m\u001b[0m\u001b[0;34m\u001b[0m\u001b[0m\n",
      "\u001b[0;31mKeyError\u001b[0m: \"[Timestamp('2021-04-22 00:00:00', freq='D'), Timestamp('2021-04-21 00:00:00', freq='D')] not in index\""
     ]
    }
   ],
   "source": [
    "df[pay_period]"
   ]
  },
  {
   "cell_type": "code",
   "execution_count": null,
   "id": "stainless-emperor",
   "metadata": {},
   "outputs": [],
   "source": []
  },
  {
   "cell_type": "code",
   "execution_count": null,
   "id": "copyrighted-sydney",
   "metadata": {},
   "outputs": [],
   "source": []
  },
  {
   "cell_type": "code",
   "execution_count": null,
   "id": "victorian-gardening",
   "metadata": {},
   "outputs": [],
   "source": []
  },
  {
   "cell_type": "code",
   "execution_count": null,
   "id": "speaking-synthesis",
   "metadata": {},
   "outputs": [],
   "source": [
    "# data = np.random.randint(1, high=100, size=len(days))\n",
    "# df = pd.DataFrame({'col2': data})\n",
    "# #df = df.set_index('test')\n",
    "# df.head()"
   ]
  },
  {
   "cell_type": "code",
   "execution_count": null,
   "id": "sealed-impossible",
   "metadata": {},
   "outputs": [],
   "source": [
    "# df['employee'] = pd.cut(df['col2'],bins=len(employees),labels=employees)\n",
    "# df['date'] = days\n",
    "# df.head()"
   ]
  },
  {
   "cell_type": "code",
   "execution_count": 134,
   "id": "private-blues",
   "metadata": {},
   "outputs": [
    {
     "name": "stdout",
     "output_type": "stream",
     "text": [
      "please enter a valid date04/20/21\n"
     ]
    }
   ],
   "source": [
    "s = input('please enter a valid date')\n"
   ]
  },
  {
   "cell_type": "code",
   "execution_count": 130,
   "id": "lonely-bryan",
   "metadata": {},
   "outputs": [],
   "source": [
    "def pay_period(s,df):\n",
    "\n",
    "    patt = re.compile('\\d{2}[-/]\\d{2}[-/]\\d{2}')\n",
    "\n",
    "    if re.findall(patt,s) == []:\n",
    "        print('you fucked up')\n",
    "        return False\n",
    "    else:\n",
    "        print('gucci')\n",
    "        try:\n",
    "            start = pd.to_datetime(s).date()\n",
    "            pay_period = pd.date_range(start, start + timedelta(2))\n",
    "            df1 = df[[pay_period[0],pay_period[2]]].copy()\n",
    "            df1['gross'] = df1.sum(axis=1)\n",
    "            df1['claimed'] = df1['gross'] * .60\n",
    "            df2 = df1[['gross','claimed']]\n",
    "            period = f'For the Pay period of {start} until {pay_period[-1].date()}'.format(start,pay_period)\n",
    "            return df2,period\n",
    "            \n",
    "        except:\n",
    "            return False\n",
    "    "
   ]
  },
  {
   "cell_type": "code",
   "execution_count": 139,
   "id": "whole-dakota",
   "metadata": {},
   "outputs": [
    {
     "data": {
      "text/plain": [
       "DatetimeIndex(['2021-04-20', '2021-04-21', '2021-04-22'], dtype='datetime64[ns]', freq='D')"
      ]
     },
     "execution_count": 139,
     "metadata": {},
     "output_type": "execute_result"
    }
   ],
   "source": [
    "start = pd.to_datetime(s).date()\n",
    "pay_period"
   ]
  },
  {
   "cell_type": "code",
   "execution_count": 140,
   "id": "alone-challenge",
   "metadata": {},
   "outputs": [
    {
     "data": {
      "text/plain": [
       "DatetimeIndex(['2021-04-20', '2021-04-23'], dtype='datetime64[ns]', name='date', freq=None)"
      ]
     },
     "execution_count": 140,
     "metadata": {},
     "output_type": "execute_result"
    }
   ],
   "source": [
    "df.columns"
   ]
  },
  {
   "cell_type": "code",
   "execution_count": 141,
   "id": "other-winning",
   "metadata": {},
   "outputs": [],
   "source": [
    "pay_period = pd.date_range(start, start + timedelta(3))\n",
    "df1 = df[[pay_period[0],pay_period[3]]].copy()\n",
    "df1['gross'] = df1.sum(axis=1)\n",
    "df1['claimed'] = df1['gross'] * .60\n",
    "df2 = df1[['gross','claimed']]\n",
    "period = f'For the Pay period of {start} until {pay_period[-1].date()}'.format(start,pay_period)"
   ]
  },
  {
   "cell_type": "code",
   "execution_count": 143,
   "id": "outer-works",
   "metadata": {},
   "outputs": [
    {
     "data": {
      "text/html": [
       "<div>\n",
       "<style scoped>\n",
       "    .dataframe tbody tr th:only-of-type {\n",
       "        vertical-align: middle;\n",
       "    }\n",
       "\n",
       "    .dataframe tbody tr th {\n",
       "        vertical-align: top;\n",
       "    }\n",
       "\n",
       "    .dataframe thead th {\n",
       "        text-align: right;\n",
       "    }\n",
       "</style>\n",
       "<table border=\"1\" class=\"dataframe\">\n",
       "  <thead>\n",
       "    <tr style=\"text-align: right;\">\n",
       "      <th>date</th>\n",
       "      <th>gross</th>\n",
       "      <th>claimed</th>\n",
       "    </tr>\n",
       "    <tr>\n",
       "      <th>name</th>\n",
       "      <th></th>\n",
       "      <th></th>\n",
       "    </tr>\n",
       "  </thead>\n",
       "  <tbody>\n",
       "    <tr>\n",
       "      <th>Bill</th>\n",
       "      <td>153.857143</td>\n",
       "      <td>92.314286</td>\n",
       "    </tr>\n",
       "    <tr>\n",
       "      <th>bloosh</th>\n",
       "      <td>127.000000</td>\n",
       "      <td>76.200000</td>\n",
       "    </tr>\n",
       "    <tr>\n",
       "      <th>joke</th>\n",
       "      <td>127.000000</td>\n",
       "      <td>76.200000</td>\n",
       "    </tr>\n",
       "  </tbody>\n",
       "</table>\n",
       "</div>"
      ],
      "text/plain": [
       "date         gross    claimed\n",
       "name                         \n",
       "Bill    153.857143  92.314286\n",
       "bloosh  127.000000  76.200000\n",
       "joke    127.000000  76.200000"
      ]
     },
     "execution_count": 143,
     "metadata": {},
     "output_type": "execute_result"
    }
   ],
   "source": [
    "df2"
   ]
  },
  {
   "cell_type": "code",
   "execution_count": 128,
   "id": "awful-metabolism",
   "metadata": {},
   "outputs": [
    {
     "data": {
      "text/plain": [
       "Index(['Bill', 'bloosh', 'joke'], dtype='object', name='name')"
      ]
     },
     "execution_count": 128,
     "metadata": {},
     "output_type": "execute_result"
    }
   ],
   "source": [
    "df2.index"
   ]
  },
  {
   "cell_type": "code",
   "execution_count": 97,
   "id": "contrary-forth",
   "metadata": {},
   "outputs": [
    {
     "name": "stdout",
     "output_type": "stream",
     "text": [
      "gucci\n"
     ]
    }
   ],
   "source": [
    "start = check_date(start)"
   ]
  },
  {
   "cell_type": "code",
   "execution_count": 108,
   "id": "wicked-disposition",
   "metadata": {},
   "outputs": [],
   "source": [
    "pay_period = pd.date_range(start, start + timedelta(13))"
   ]
  },
  {
   "cell_type": "code",
   "execution_count": 109,
   "id": "creative-hollow",
   "metadata": {},
   "outputs": [
    {
     "data": {
      "text/plain": [
       "DatetimeIndex(['2021-04-20', '2021-04-21', '2021-04-22', '2021-04-23',\n",
       "               '2021-04-24', '2021-04-25', '2021-04-26', '2021-04-27',\n",
       "               '2021-04-28', '2021-04-29', '2021-04-30', '2021-05-01',\n",
       "               '2021-05-02', '2021-05-03'],\n",
       "              dtype='datetime64[ns]', freq='D')"
      ]
     },
     "execution_count": 109,
     "metadata": {},
     "output_type": "execute_result"
    }
   ],
   "source": [
    "pay_period"
   ]
  },
  {
   "cell_type": "code",
   "execution_count": 100,
   "id": "superb-representation",
   "metadata": {},
   "outputs": [
    {
     "data": {
      "text/html": [
       "<div>\n",
       "<style scoped>\n",
       "    .dataframe tbody tr th:only-of-type {\n",
       "        vertical-align: middle;\n",
       "    }\n",
       "\n",
       "    .dataframe tbody tr th {\n",
       "        vertical-align: top;\n",
       "    }\n",
       "\n",
       "    .dataframe thead th {\n",
       "        text-align: right;\n",
       "    }\n",
       "</style>\n",
       "<table border=\"1\" class=\"dataframe\">\n",
       "  <thead>\n",
       "    <tr style=\"text-align: right;\">\n",
       "      <th>date</th>\n",
       "      <th>2021-04-20</th>\n",
       "      <th>2021-04-23</th>\n",
       "    </tr>\n",
       "    <tr>\n",
       "      <th>name</th>\n",
       "      <th></th>\n",
       "      <th></th>\n",
       "    </tr>\n",
       "  </thead>\n",
       "  <tbody>\n",
       "    <tr>\n",
       "      <th>Bill</th>\n",
       "      <td>26.857143</td>\n",
       "      <td>127.0</td>\n",
       "    </tr>\n",
       "    <tr>\n",
       "      <th>bloosh</th>\n",
       "      <td>NaN</td>\n",
       "      <td>127.0</td>\n",
       "    </tr>\n",
       "    <tr>\n",
       "      <th>joke</th>\n",
       "      <td>NaN</td>\n",
       "      <td>127.0</td>\n",
       "    </tr>\n",
       "  </tbody>\n",
       "</table>\n",
       "</div>"
      ],
      "text/plain": [
       "date    2021-04-20  2021-04-23\n",
       "name                          \n",
       "Bill     26.857143       127.0\n",
       "bloosh         NaN       127.0\n",
       "joke           NaN       127.0"
      ]
     },
     "execution_count": 100,
     "metadata": {},
     "output_type": "execute_result"
    }
   ],
   "source": [
    "df.head()"
   ]
  },
  {
   "cell_type": "code",
   "execution_count": 105,
   "id": "christian-superintendent",
   "metadata": {},
   "outputs": [],
   "source": [
    "df1 = df[[pay_period[3],pay_period[0]]].copy()"
   ]
  },
  {
   "cell_type": "code",
   "execution_count": 106,
   "id": "lasting-wednesday",
   "metadata": {},
   "outputs": [],
   "source": [
    "df1['gross'] = df1.sum(axis=1)\n",
    "df1['claimed'] = df1['gross'] * .60"
   ]
  },
  {
   "cell_type": "code",
   "execution_count": 107,
   "id": "double-physiology",
   "metadata": {},
   "outputs": [
    {
     "data": {
      "text/html": [
       "<div>\n",
       "<style scoped>\n",
       "    .dataframe tbody tr th:only-of-type {\n",
       "        vertical-align: middle;\n",
       "    }\n",
       "\n",
       "    .dataframe tbody tr th {\n",
       "        vertical-align: top;\n",
       "    }\n",
       "\n",
       "    .dataframe thead th {\n",
       "        text-align: right;\n",
       "    }\n",
       "</style>\n",
       "<table border=\"1\" class=\"dataframe\">\n",
       "  <thead>\n",
       "    <tr style=\"text-align: right;\">\n",
       "      <th>date</th>\n",
       "      <th>2021-04-23 00:00:00</th>\n",
       "      <th>2021-04-20 00:00:00</th>\n",
       "      <th>gross</th>\n",
       "      <th>claimed</th>\n",
       "    </tr>\n",
       "    <tr>\n",
       "      <th>name</th>\n",
       "      <th></th>\n",
       "      <th></th>\n",
       "      <th></th>\n",
       "      <th></th>\n",
       "    </tr>\n",
       "  </thead>\n",
       "  <tbody>\n",
       "    <tr>\n",
       "      <th>Bill</th>\n",
       "      <td>127.0</td>\n",
       "      <td>26.857143</td>\n",
       "      <td>153.857143</td>\n",
       "      <td>92.314286</td>\n",
       "    </tr>\n",
       "    <tr>\n",
       "      <th>bloosh</th>\n",
       "      <td>127.0</td>\n",
       "      <td>NaN</td>\n",
       "      <td>127.000000</td>\n",
       "      <td>76.200000</td>\n",
       "    </tr>\n",
       "    <tr>\n",
       "      <th>joke</th>\n",
       "      <td>127.0</td>\n",
       "      <td>NaN</td>\n",
       "      <td>127.000000</td>\n",
       "      <td>76.200000</td>\n",
       "    </tr>\n",
       "  </tbody>\n",
       "</table>\n",
       "</div>"
      ],
      "text/plain": [
       "date    2021-04-23 00:00:00  2021-04-20 00:00:00       gross    claimed\n",
       "name                                                                   \n",
       "Bill                  127.0            26.857143  153.857143  92.314286\n",
       "bloosh                127.0                  NaN  127.000000  76.200000\n",
       "joke                  127.0                  NaN  127.000000  76.200000"
      ]
     },
     "execution_count": 107,
     "metadata": {},
     "output_type": "execute_result"
    }
   ],
   "source": [
    "df1"
   ]
  },
  {
   "cell_type": "code",
   "execution_count": null,
   "id": "practical-plastic",
   "metadata": {},
   "outputs": [],
   "source": []
  },
  {
   "cell_type": "code",
   "execution_count": null,
   "id": "tender-bulletin",
   "metadata": {},
   "outputs": [],
   "source": []
  },
  {
   "cell_type": "code",
   "execution_count": null,
   "id": "weighted-dairy",
   "metadata": {},
   "outputs": [],
   "source": []
  },
  {
   "cell_type": "code",
   "execution_count": null,
   "id": "necessary-imagination",
   "metadata": {},
   "outputs": [],
   "source": []
  },
  {
   "cell_type": "code",
   "execution_count": null,
   "id": "psychological-season",
   "metadata": {},
   "outputs": [],
   "source": [
    "df1['gross'] = df1.sum(axis=1)\n",
    "df1['claimed'] = df1['gross'] * .60\n",
    "df1.head()"
   ]
  },
  {
   "cell_type": "code",
   "execution_count": null,
   "id": "accessible-lodge",
   "metadata": {},
   "outputs": [],
   "source": []
  },
  {
   "cell_type": "code",
   "execution_count": null,
   "id": "polished-twist",
   "metadata": {},
   "outputs": [],
   "source": [
    "df2 = df1[['gross','claimed']]"
   ]
  },
  {
   "cell_type": "code",
   "execution_count": null,
   "id": "annual-format",
   "metadata": {},
   "outputs": [],
   "source": []
  },
  {
   "cell_type": "code",
   "execution_count": null,
   "id": "sunrise-freeze",
   "metadata": {},
   "outputs": [],
   "source": [
    "df = pd.read_csv('test - Marigny.csv')"
   ]
  },
  {
   "cell_type": "code",
   "execution_count": null,
   "id": "serial-iceland",
   "metadata": {},
   "outputs": [],
   "source": [
    "df.head()"
   ]
  },
  {
   "cell_type": "code",
   "execution_count": null,
   "id": "occupied-memphis",
   "metadata": {},
   "outputs": [],
   "source": [
    "cols = df.columns\n",
    "df.drop(cols[0:6],axis=1,inplace=True)\n",
    "df.drop('created_at',axis=1,inplace=True)"
   ]
  },
  {
   "cell_type": "code",
   "execution_count": null,
   "id": "adult-labor",
   "metadata": {},
   "outputs": [],
   "source": []
  },
  {
   "cell_type": "code",
   "execution_count": null,
   "id": "theoretical-astronomy",
   "metadata": {},
   "outputs": [],
   "source": [
    "df['date'] = pd.to_datetime(df['date'])\n",
    "df['tips'] = round(df.tips.astype(int))"
   ]
  },
  {
   "cell_type": "code",
   "execution_count": null,
   "id": "subtle-spice",
   "metadata": {},
   "outputs": [],
   "source": [
    "df"
   ]
  },
  {
   "cell_type": "code",
   "execution_count": null,
   "id": "canadian-crack",
   "metadata": {},
   "outputs": [],
   "source": [
    "df = df.pivot_table('tips','name','date')"
   ]
  },
  {
   "cell_type": "code",
   "execution_count": null,
   "id": "advance-breeding",
   "metadata": {},
   "outputs": [],
   "source": [
    "df.head()"
   ]
  },
  {
   "cell_type": "code",
   "execution_count": null,
   "id": "norwegian-currency",
   "metadata": {},
   "outputs": [],
   "source": [
    "start = input('please enter a valid date')\n"
   ]
  },
  {
   "cell_type": "code",
   "execution_count": null,
   "id": "packed-macedonia",
   "metadata": {},
   "outputs": [],
   "source": [
    "print(start)"
   ]
  },
  {
   "cell_type": "code",
   "execution_count": null,
   "id": "printable-soundtrack",
   "metadata": {},
   "outputs": [],
   "source": [
    "patt = re.compile('\\d{2}/\\d{2}/\\d{2}')"
   ]
  },
  {
   "cell_type": "code",
   "execution_count": null,
   "id": "thorough-webmaster",
   "metadata": {},
   "outputs": [],
   "source": [
    "print(patt)"
   ]
  },
  {
   "cell_type": "code",
   "execution_count": null,
   "id": "brave-animation",
   "metadata": {},
   "outputs": [],
   "source": [
    "re.findall(patt,start)"
   ]
  },
  {
   "cell_type": "code",
   "execution_count": null,
   "id": "floating-trinity",
   "metadata": {},
   "outputs": [],
   "source": []
  },
  {
   "cell_type": "code",
   "execution_count": 28,
   "id": "celtic-budapest",
   "metadata": {},
   "outputs": [
    {
     "name": "stdout",
     "output_type": "stream",
     "text": [
      "please enter a valid date04/20/21\n"
     ]
    }
   ],
   "source": [
    "start = input('please enter a valid date')"
   ]
  },
  {
   "cell_type": "code",
   "execution_count": 29,
   "id": "tough-agenda",
   "metadata": {},
   "outputs": [],
   "source": [
    "def check_date(s):\n",
    "\n",
    "    patt = re.compile('\\d{2}/\\d{2}/\\d{2}')\n",
    "\n",
    "\n",
    "    if re.findall(patt,s) == []:\n",
    "        print('you fucked up')\n",
    "        return False\n",
    "    else:\n",
    "        print('gucci')\n",
    "        try:\n",
    "            start = pd.to_datetime(s).date()\n",
    "            return start\n",
    "            \n",
    "        except:\n",
    "            return False\n",
    "    "
   ]
  },
  {
   "cell_type": "code",
   "execution_count": 32,
   "id": "involved-sherman",
   "metadata": {},
   "outputs": [
    {
     "name": "stdout",
     "output_type": "stream",
     "text": [
      "gucci\n"
     ]
    }
   ],
   "source": [
    "start = check_date(start)"
   ]
  },
  {
   "cell_type": "code",
   "execution_count": 45,
   "id": "joint-institution",
   "metadata": {},
   "outputs": [
    {
     "ename": "TypeError",
     "evalue": "'freq' is an invalid keyword argument for __new__()",
     "output_type": "error",
     "traceback": [
      "\u001b[0;31m---------------------------------------------------------------------------\u001b[0m",
      "\u001b[0;31mTypeError\u001b[0m                                 Traceback (most recent call last)",
      "\u001b[0;32m<ipython-input-45-adf5fa7344e1>\u001b[0m in \u001b[0;36m<module>\u001b[0;34m\u001b[0m\n\u001b[0;32m----> 1\u001b[0;31m \u001b[0mpay_period\u001b[0m \u001b[0;34m=\u001b[0m \u001b[0mpd\u001b[0m\u001b[0;34m.\u001b[0m\u001b[0mdate_range\u001b[0m\u001b[0;34m(\u001b[0m\u001b[0mstart\u001b[0m\u001b[0;34m,\u001b[0m \u001b[0mstart\u001b[0m \u001b[0;34m+\u001b[0m \u001b[0mtimedelta\u001b[0m\u001b[0;34m(\u001b[0m\u001b[0;36m2\u001b[0m\u001b[0;34m,\u001b[0m\u001b[0mfreq\u001b[0m\u001b[0;34m=\u001b[0m\u001b[0;32mNone\u001b[0m\u001b[0;34m)\u001b[0m\u001b[0;34m)\u001b[0m\u001b[0;34m\u001b[0m\u001b[0;34m\u001b[0m\u001b[0m\n\u001b[0m",
      "\u001b[0;31mTypeError\u001b[0m: 'freq' is an invalid keyword argument for __new__()"
     ]
    }
   ],
   "source": [
    "pay_period = pd.date_range(start, start + timedelta(2))"
   ]
  },
  {
   "cell_type": "code",
   "execution_count": 44,
   "id": "adult-forest",
   "metadata": {},
   "outputs": [
    {
     "data": {
      "text/plain": [
       "DatetimeIndex(['2021-04-20', '2021-04-21', '2021-04-22'], dtype='datetime64[ns]', freq='D')"
      ]
     },
     "execution_count": 44,
     "metadata": {},
     "output_type": "execute_result"
    }
   ],
   "source": [
    "pay_period"
   ]
  },
  {
   "cell_type": "code",
   "execution_count": 43,
   "id": "congressional-tower",
   "metadata": {},
   "outputs": [
    {
     "data": {
      "text/plain": [
       "DatetimeIndex(['2021-04-20', '2021-04-23'], dtype='datetime64[ns]', name='date', freq=None)"
      ]
     },
     "execution_count": 43,
     "metadata": {},
     "output_type": "execute_result"
    }
   ],
   "source": [
    "df.columns"
   ]
  },
  {
   "cell_type": "code",
   "execution_count": null,
   "id": "altered-egyptian",
   "metadata": {},
   "outputs": [],
   "source": [
    "\n",
    "\n",
    "df['day'] = df['date'].dt.day_name().astype(str)\n",
    "df['day'] = df['day'].str.replace(r'(\\w+day\\b)',lambda x: x.groups()[0][:3])\n",
    "df['Date'] =  df.date.astype(str) + '\\n' + df.day + '\\n' + df.time.astype(str)\n",
    "df.fillna('-',inplace=True)\n",
    "df = df.pivot_table(index=\"name\",columns=[\"Date\"],values=\"tips\")"
   ]
  },
  {
   "cell_type": "code",
   "execution_count": null,
   "id": "accepted-memorial",
   "metadata": {},
   "outputs": [],
   "source": [
    "dataframe['date'] = pd.to_datetime(dataframe['created_at']).dt.date\n",
    "\n",
    "df = dataframe.pivot_table('tips','name','date')\n",
    "\n",
    "df1 = df[biweek]\n",
    "\n",
    "df1['gross'] = df1.sum(axis=1)\n",
    "df1['claimed'] = df1['gross'] * .60"
   ]
  },
  {
   "cell_type": "code",
   "execution_count": 23,
   "id": "internal-albany",
   "metadata": {},
   "outputs": [],
   "source": [
    "start = '12/22/21'\n",
    "month,day,year = start.split('/')"
   ]
  },
  {
   "cell_type": "code",
   "execution_count": 26,
   "id": "partial-fleet",
   "metadata": {},
   "outputs": [
    {
     "data": {
      "text/plain": [
       "datetime.date(21, 12, 22)"
      ]
     },
     "execution_count": 26,
     "metadata": {},
     "output_type": "execute_result"
    }
   ],
   "source": []
  },
  {
   "cell_type": "code",
   "execution_count": 47,
   "id": "personalized-following",
   "metadata": {},
   "outputs": [
    {
     "name": "stdout",
     "output_type": "stream",
     "text": [
      "date04/20/21\n"
     ]
    }
   ],
   "source": [
    "input_date = input('date')\n"
   ]
  },
  {
   "cell_type": "code",
   "execution_count": 50,
   "id": "automotive-groove",
   "metadata": {},
   "outputs": [],
   "source": [
    "month,day,year = input_date.split('/')\n",
    "start = dt(int(year),int(month),int(day)).date()\n",
    "# biweek = pd.date_range(start, start + timedelta(weeks=2))"
   ]
  },
  {
   "cell_type": "code",
   "execution_count": 58,
   "id": "oriental-healthcare",
   "metadata": {},
   "outputs": [],
   "source": [
    "strt = pd.to_datetime(input_date).date()"
   ]
  },
  {
   "cell_type": "code",
   "execution_count": 59,
   "id": "inside-pepper",
   "metadata": {},
   "outputs": [
    {
     "ename": "OutOfBoundsDatetime",
     "evalue": "Out of bounds nanosecond timestamp: 21-04-20 00:00:00",
     "output_type": "error",
     "traceback": [
      "\u001b[0;31m---------------------------------------------------------------------------\u001b[0m",
      "\u001b[0;31mOutOfBoundsDatetime\u001b[0m                       Traceback (most recent call last)",
      "\u001b[0;32m<ipython-input-59-052c8c5fc7b4>\u001b[0m in \u001b[0;36m<module>\u001b[0;34m\u001b[0m\n\u001b[0;32m----> 1\u001b[0;31m \u001b[0mpd\u001b[0m\u001b[0;34m.\u001b[0m\u001b[0mdate_range\u001b[0m\u001b[0;34m(\u001b[0m\u001b[0mstart\u001b[0m\u001b[0;34m,\u001b[0m \u001b[0mstart\u001b[0m \u001b[0;34m+\u001b[0m \u001b[0mtimedelta\u001b[0m\u001b[0;34m(\u001b[0m\u001b[0;36m13\u001b[0m\u001b[0;34m)\u001b[0m\u001b[0;34m)\u001b[0m\u001b[0;34m\u001b[0m\u001b[0;34m\u001b[0m\u001b[0m\n\u001b[0m",
      "\u001b[0;32m~/.local/share/virtualenvs/sukho-OZa_kSKd/lib/python3.9/site-packages/pandas/core/indexes/datetimes.py\u001b[0m in \u001b[0;36mdate_range\u001b[0;34m(start, end, periods, freq, tz, normalize, name, closed, **kwargs)\u001b[0m\n\u001b[1;32m   1067\u001b[0m         \u001b[0mfreq\u001b[0m \u001b[0;34m=\u001b[0m \u001b[0;34m\"D\"\u001b[0m\u001b[0;34m\u001b[0m\u001b[0;34m\u001b[0m\u001b[0m\n\u001b[1;32m   1068\u001b[0m \u001b[0;34m\u001b[0m\u001b[0m\n\u001b[0;32m-> 1069\u001b[0;31m     dtarr = DatetimeArray._generate_range(\n\u001b[0m\u001b[1;32m   1070\u001b[0m         \u001b[0mstart\u001b[0m\u001b[0;34m=\u001b[0m\u001b[0mstart\u001b[0m\u001b[0;34m,\u001b[0m\u001b[0;34m\u001b[0m\u001b[0;34m\u001b[0m\u001b[0m\n\u001b[1;32m   1071\u001b[0m         \u001b[0mend\u001b[0m\u001b[0;34m=\u001b[0m\u001b[0mend\u001b[0m\u001b[0;34m,\u001b[0m\u001b[0;34m\u001b[0m\u001b[0;34m\u001b[0m\u001b[0m\n",
      "\u001b[0;32m~/.local/share/virtualenvs/sukho-OZa_kSKd/lib/python3.9/site-packages/pandas/core/arrays/datetimes.py\u001b[0m in \u001b[0;36m_generate_range\u001b[0;34m(cls, start, end, periods, freq, tz, normalize, ambiguous, nonexistent, closed)\u001b[0m\n\u001b[1;32m    378\u001b[0m \u001b[0;34m\u001b[0m\u001b[0m\n\u001b[1;32m    379\u001b[0m         \u001b[0;32mif\u001b[0m \u001b[0mstart\u001b[0m \u001b[0;32mis\u001b[0m \u001b[0;32mnot\u001b[0m \u001b[0;32mNone\u001b[0m\u001b[0;34m:\u001b[0m\u001b[0;34m\u001b[0m\u001b[0;34m\u001b[0m\u001b[0m\n\u001b[0;32m--> 380\u001b[0;31m             \u001b[0mstart\u001b[0m \u001b[0;34m=\u001b[0m \u001b[0mTimestamp\u001b[0m\u001b[0;34m(\u001b[0m\u001b[0mstart\u001b[0m\u001b[0;34m)\u001b[0m\u001b[0;34m\u001b[0m\u001b[0;34m\u001b[0m\u001b[0m\n\u001b[0m\u001b[1;32m    381\u001b[0m \u001b[0;34m\u001b[0m\u001b[0m\n\u001b[1;32m    382\u001b[0m         \u001b[0;32mif\u001b[0m \u001b[0mend\u001b[0m \u001b[0;32mis\u001b[0m \u001b[0;32mnot\u001b[0m \u001b[0;32mNone\u001b[0m\u001b[0;34m:\u001b[0m\u001b[0;34m\u001b[0m\u001b[0;34m\u001b[0m\u001b[0m\n",
      "\u001b[0;32mpandas/_libs/tslibs/timestamps.pyx\u001b[0m in \u001b[0;36mpandas._libs.tslibs.timestamps.Timestamp.__new__\u001b[0;34m()\u001b[0m\n",
      "\u001b[0;32mpandas/_libs/tslibs/conversion.pyx\u001b[0m in \u001b[0;36mpandas._libs.tslibs.conversion.convert_to_tsobject\u001b[0;34m()\u001b[0m\n",
      "\u001b[0;32mpandas/_libs/tslibs/conversion.pyx\u001b[0m in \u001b[0;36mpandas._libs.tslibs.conversion.convert_datetime_to_tsobject\u001b[0;34m()\u001b[0m\n",
      "\u001b[0;32mpandas/_libs/tslibs/np_datetime.pyx\u001b[0m in \u001b[0;36mpandas._libs.tslibs.np_datetime.check_dts_bounds\u001b[0;34m()\u001b[0m\n",
      "\u001b[0;31mOutOfBoundsDatetime\u001b[0m: Out of bounds nanosecond timestamp: 21-04-20 00:00:00"
     ]
    }
   ],
   "source": [
    "pd.date_range(start, start + timedelta(13))"
   ]
  },
  {
   "cell_type": "code",
   "execution_count": null,
   "id": "atmospheric-pipeline",
   "metadata": {},
   "outputs": [],
   "source": []
  }
 ],
 "metadata": {
  "kernelspec": {
   "display_name": "Python 3",
   "language": "python",
   "name": "python3"
  },
  "language_info": {
   "codemirror_mode": {
    "name": "ipython",
    "version": 3
   },
   "file_extension": ".py",
   "mimetype": "text/x-python",
   "name": "python",
   "nbconvert_exporter": "python",
   "pygments_lexer": "ipython3",
   "version": "3.9.2"
  }
 },
 "nbformat": 4,
 "nbformat_minor": 5
}
